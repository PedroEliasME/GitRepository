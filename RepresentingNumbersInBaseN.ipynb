{
 "metadata": {
  "language": "Julia",
  "name": "",
  "signature": "sha256:81f472801a9b01425ed8d99d34979f1cba102800d8bba946940e4f0fbeeab2d5"
 },
 "nbformat": 3,
 "nbformat_minor": 0,
 "worksheets": [
  {
   "cells": [
    {
     "cell_type": "heading",
     "level": 1,
     "metadata": {},
     "source": [
      "Codigo para obtener la representar  n\u00fameros enteros positivos en cualquier base entera positiva."
     ]
    },
    {
     "cell_type": "markdown",
     "metadata": {},
     "source": [
      "Este c\u00f3digo saca la base de un n\u00famero.\n",
      "\n",
      "Tanto la base como el n\u00famero tienen que ser n\u00fameros naturales.\n",
      "\n",
      "A\u00fan se puede mejorar el c\u00f3digo, pero en general funciona bien."
     ]
    },
    {
     "cell_type": "code",
     "collapsed": false,
     "input": [
      "function baseN(x,base)  \n",
      "    \n",
      "    if int(base)<base ||  int(base)>base   || base<=0 || int(x)<x ||  int(x)>x   || x<0\n",
      "      \n",
      "        print (\"Tanto el n\u00famero como la base que quieras usar deben de ser n\u00fameros naturales.\")\n",
      "        \n",
      "    else\n",
      "        \n",
      "    as=Float64[]    \n",
      "    k=Float64[] \n",
      "    \n",
      "    while x>=1        \n",
      "           p=x%base\n",
      "        \n",
      "        if  p==0        \n",
      "            a=0   \n",
      "            x= x/2\n",
      "                      \n",
      "        else       \n",
      "            a=1       \n",
      "            x=(x/2)-0.5       \n",
      "        \n",
      "        end\n",
      "                 \n",
      "          push!(as,a) \n",
      "            baseN(x,base)\n",
      "               \n",
      "     end    \n",
      "        k=[as]\n",
      "        vcat(as...)'\n",
      "        p=reverse(k)\n",
      "        vcat(p...)'\n",
      "    end\n",
      "     \n",
      "end\n"
     ],
     "language": "python",
     "metadata": {},
     "outputs": [
      {
       "metadata": {},
       "output_type": "pyout",
       "prompt_number": 45,
       "text": [
        "baseN (generic function with 1 method)"
       ]
      }
     ],
     "prompt_number": 45
    },
    {
     "cell_type": "code",
     "collapsed": false,
     "input": [
      "baseN(131,2)"
     ],
     "language": "python",
     "metadata": {},
     "outputs": [
      {
       "metadata": {},
       "output_type": "pyout",
       "prompt_number": 46,
       "text": [
        "1x8 Array{Float64,2}:\n",
        " 1.0  0.0  0.0  0.0  0.0  0.0  1.0  1.0"
       ]
      }
     ],
     "prompt_number": 46
    },
    {
     "cell_type": "markdown",
     "metadata": {},
     "source": [
      "## END"
     ]
    }
   ],
   "metadata": {}
  }
 ]
}